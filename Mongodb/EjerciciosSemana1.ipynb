{
 "cells": [
  {
   "attachments": {},
   "cell_type": "markdown",
   "metadata": {},
   "source": [
    "Crear un diccionario que contenga el nombre de diferentes frutas como claves y su precio por kilogramo como valor. Luego, pedir al usuario que ingrese el nombre de una fruta y mostrar en pantalla su precio correspondiente. Si la fruta ingresada no se encuentra en el diccionario, imprimir un mensaje de error. \n",
    "\n",
    " \n",
    "\n",
    "Crear una función que reciba como parámetro un diccionario que contenga el nombre de diferentes países como claves y su población como valor. La función deberá retornar el nombre del país con la mayor población. En caso de que dos o más países tengan la misma población máxima, la función deberá retornar una lista con los nombres de todos esos países. \n",
    "\n",
    " \n",
    "\n",
    "Escribir un programa que cree un documento en una colección de MongoDB utilizando Python. El documento debe tener al menos dos campos: \"nombre\" y \"edad\". El valor del campo \"nombre\" debe ser una cadena de caracteres y el valor del campo \"edad\" debe ser un entero. Puedes pedir al usuario que ingrese los valores de ambos campos o definirlos directamente en el código. \n",
    "\n",
    " "
   ]
  },
  {
   "cell_type": "code",
   "execution_count": 35,
   "metadata": {},
   "outputs": [
    {
     "name": "stdout",
     "output_type": "stream",
     "text": [
      "La fruta no existe en el diccionario.\n"
     ]
    }
   ],
   "source": [
    "diccionariFrutas =  { \n",
    "    \"mango\":20.00 ,\n",
    "    \"naranja\": 2.22 ,\n",
    "    \"Uva\" : 3.30  , \n",
    "    \"piña\": 28.2   \n",
    "} ; \n",
    "\n",
    "ingresarFruta = input(\"Ingresar el nombre de la fruta: \" ); \n",
    "\n",
    "if  ingresarFruta  in  diccionariFrutas :\n",
    "    print(\"si existe\")\n",
    "\n",
    "precio_fruta = diccionariFrutas.get(ingresarFruta, \"La fruta no existe en el diccionario.\")\n",
    "print(precio_fruta)"
   ]
  },
  {
   "cell_type": "code",
   "execution_count": 36,
   "metadata": {},
   "outputs": [
    {
     "name": "stdout",
     "output_type": "stream",
     "text": [
      "pais con mayores poblacion es:  Costa Rica\n"
     ]
    }
   ],
   "source": [
    "\n",
    "#se crea la los paises y el numero de poblacion \n",
    "paisesNumerodePoblacio = {\n",
    "    \"El salvador\" :22222 , \n",
    "    \"Costa Rica\" : 9889895 ,  \n",
    "    \"Panama\" : 2444545 ,\n",
    "    \"Venezuela\" : 466456  , \n",
    "    \"EEUU\" : 316546 , \n",
    "}\n",
    "\n",
    "# se crea la funcion que retorna el pais con mayor poblacion  \n",
    "def paisConMayorPoblacion(diccionarioPoblacion):\n",
    "    \n",
    "    # devuelve el numero maximo del pais  \n",
    "    paisesConMaximapoblacion = max(diccionarioPoblacion.values())  \n",
    "    # se crea un bucle por cada poblacion  sea igual la poblacion maxima \n",
    "    paises_maximos = [pais for pais, poblacion in diccionarioPoblacion.items() if poblacion == paisesConMaximapoblacion]  # Obtenemos los países con la población máxima\n",
    "    # si el array es igual a 1 devuelve solo el nombre del pais \n",
    "    if paises_maximos.__len__() == 1 :\n",
    "        return paises_maximos[0]  \n",
    "    else : \n",
    "        return paises_maximos  \n",
    "\n",
    "retornarpais = paisConMayorPoblacion(paisesNumerodePoblacio)\n",
    "\n",
    "print(\"pais con mayores poblacion es: \" , retornarpais)  "
   ]
  },
  {
   "cell_type": "code",
   "execution_count": 53,
   "metadata": {},
   "outputs": [
    {
     "name": "stdout",
     "output_type": "stream",
     "text": [
      "['Users']\n",
      "{'Edad': 22,\n",
      " 'Nombre': 'Ronal Gonzalez',\n",
      " '_id': ObjectId('640ce1a749fdf31c845c0f9c'),\n",
      " 'data': datetime.datetime(2023, 3, 11, 20, 16, 39, 871000)}\n",
      "{'Edad': 22,\n",
      " 'Nombre': 'Ronal Gonzalez',\n",
      " '_id': ObjectId('640ce1c449fdf31c845c0f9e'),\n",
      " 'data': datetime.datetime(2023, 3, 11, 20, 17, 8, 444000)}\n",
      "{'Edad': 22,\n",
      " 'Nombre': 'Ronal Gonzalez',\n",
      " '_id': ObjectId('640ce1c849fdf31c845c0fa0'),\n",
      " 'data': datetime.datetime(2023, 3, 11, 20, 17, 12, 766000)}\n",
      "{'Edad': 22,\n",
      " 'Nombre': 'Ronal Gonzalez',\n",
      " '_id': ObjectId('640ce1ca49fdf31c845c0fa2'),\n",
      " 'data': datetime.datetime(2023, 3, 11, 20, 17, 14, 176000)}\n",
      "{'Edad': 22,\n",
      " 'Nombre': 'Ronal Gonzalez',\n",
      " '_id': ObjectId('640ce1ca49fdf31c845c0fa4'),\n",
      " 'data': datetime.datetime(2023, 3, 11, 20, 17, 14, 875000)}\n",
      "{'Edad': 22,\n",
      " 'Nombre': 'Ronal Gonzalez',\n",
      " '_id': ObjectId('640ce1db49fdf31c845c0fa6'),\n",
      " 'data': datetime.datetime(2023, 3, 11, 20, 17, 31, 609000)}\n",
      "{'Edad': 22,\n",
      " 'Nombre': 'Ronal Gonzalez',\n",
      " '_id': ObjectId('640ce20549fdf31c845c0fa8'),\n",
      " 'data': datetime.datetime(2023, 3, 11, 20, 18, 13, 727000)}\n",
      "{'Edad': 22,\n",
      " 'Nombre': 'Ronal Gonzalez',\n",
      " '_id': ObjectId('640ce20649fdf31c845c0faa'),\n",
      " 'data': datetime.datetime(2023, 3, 11, 20, 18, 14, 477000)}\n",
      "{'Edad': 22,\n",
      " 'Nombre': 'Ronal Gonzalez',\n",
      " '_id': ObjectId('640ce20749fdf31c845c0fac'),\n",
      " 'data': datetime.datetime(2023, 3, 11, 20, 18, 15, 24000)}\n",
      "{'Edad': 22,\n",
      " 'Nombre': 'Ronal Gonzalez',\n",
      " '_id': ObjectId('640ce21a49fdf31c845c0fae'),\n",
      " 'data': datetime.datetime(2023, 3, 11, 20, 18, 34, 125000)}\n",
      "{'Edad': 22,\n",
      " 'Nombre': 'Ronal Gonzalez',\n",
      " '_id': ObjectId('640ce22249fdf31c845c0fb0'),\n",
      " 'data': datetime.datetime(2023, 3, 11, 20, 18, 42, 163000)}\n",
      "{'Edad': '28',\n",
      " 'Nombre': 'Oswaldo',\n",
      " '_id': ObjectId('640ce41a49fdf31c845c0fb2'),\n",
      " 'data': datetime.datetime(2023, 3, 11, 20, 27, 6, 439000)}\n",
      "{'Edad': '30',\n",
      " 'Nombre': 'Rene',\n",
      " '_id': ObjectId('640ce46a49fdf31c845c0fb4'),\n",
      " 'data': datetime.datetime(2023, 3, 11, 20, 28, 26, 96000)}\n",
      "{'Edad': '29',\n",
      " 'Nombre': 'Evelyn',\n",
      " '_id': ObjectId('640ce4a049fdf31c845c0fb6'),\n",
      " 'data': datetime.datetime(2023, 3, 11, 20, 29, 20, 457000)}\n"
     ]
    }
   ],
   "source": [
    "import pymongo\n",
    "import datetime \n",
    "import pprint \n",
    "#conececion string \n",
    "conn_str = \"mongodb://localhost:27017\"\n",
    "\n",
    "#creamos la instancia del cliente mongodb \n",
    "client = pymongo.MongoClient(conn_str, serverSelectionTimeoutMS=5000)\n",
    "\n",
    "\n",
    "try:\n",
    "    # se conecta a basededatos \n",
    "    db = client.Test_mongodb;  \n",
    "    print(db.list_collection_names()); \n",
    "   \n",
    "    # accedemos a la collection \n",
    "    collection = db.Users; \n",
    "\n",
    "    #pedimos  el Nombre y la Edad \n",
    "    pedirNombreUsers =  input(\"Ingresar su Nombre: \") \n",
    "    pedirEdadUsers = input(\"Ingresar la Edad: \") ;  \n",
    "\n",
    "     # se crea una collection Users    \n",
    "    diccionarioUsers = { \n",
    "        \"Nombre\": pedirNombreUsers,\n",
    "        \"Edad\" :  pedirEdadUsers, \n",
    "         \"data\" : datetime.datetime.utcnow()     \n",
    "    };    \n",
    "\n",
    "    # se agrega la collectionUsers \n",
    "    collection.insert_one(diccionarioUsers);  \n",
    "    \n",
    "    #imprimir todos los users   \n",
    "    for users in collection.find(): \n",
    "        pprint.pprint(users)  \n",
    "\n",
    "except Exception:\n",
    "    \n",
    "    print(\"Unable to connect to the server.\"); "
   ]
  }
 ],
 "metadata": {
  "kernelspec": {
   "display_name": "Python 3",
   "language": "python",
   "name": "python3"
  },
  "language_info": {
   "codemirror_mode": {
    "name": "ipython",
    "version": 3
   },
   "file_extension": ".py",
   "mimetype": "text/x-python",
   "name": "python",
   "nbconvert_exporter": "python",
   "pygments_lexer": "ipython3",
   "version": "3.10.7"
  },
  "orig_nbformat": 4
 },
 "nbformat": 4,
 "nbformat_minor": 2
}
